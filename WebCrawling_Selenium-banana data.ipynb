{
 "cells": [
  {
   "cell_type": "code",
   "execution_count": 1,
   "id": "b40f92cf",
   "metadata": {},
   "outputs": [
    {
     "name": "stdout",
     "output_type": "stream",
     "text": [
      "Defaulting to user installation because normal site-packages is not writeable\n",
      "Requirement already satisfied: selenium in c:\\users\\21\\appdata\\roaming\\python\\python39\\site-packages (4.5.0)\n",
      "Requirement already satisfied: trio~=0.17 in c:\\users\\21\\appdata\\roaming\\python\\python39\\site-packages (from selenium) (0.22.0)\n",
      "Requirement already satisfied: urllib3[socks]~=1.26 in c:\\programdata\\anaconda3\\lib\\site-packages (from selenium) (1.26.9)\n",
      "Requirement already satisfied: certifi>=2021.10.8 in c:\\programdata\\anaconda3\\lib\\site-packages (from selenium) (2021.10.8)\n",
      "Requirement already satisfied: trio-websocket~=0.9 in c:\\users\\21\\appdata\\roaming\\python\\python39\\site-packages (from selenium) (0.9.2)\n",
      "Requirement already satisfied: async-generator>=1.9 in c:\\users\\21\\appdata\\roaming\\python\\python39\\site-packages (from trio~=0.17->selenium) (1.10)\n",
      "Requirement already satisfied: idna in c:\\programdata\\anaconda3\\lib\\site-packages (from trio~=0.17->selenium) (3.3)\n",
      "Requirement already satisfied: exceptiongroup>=1.0.0rc9 in c:\\users\\21\\appdata\\roaming\\python\\python39\\site-packages (from trio~=0.17->selenium) (1.0.0)\n",
      "Requirement already satisfied: sortedcontainers in c:\\programdata\\anaconda3\\lib\\site-packages (from trio~=0.17->selenium) (2.4.0)\n",
      "Requirement already satisfied: attrs>=19.2.0 in c:\\programdata\\anaconda3\\lib\\site-packages (from trio~=0.17->selenium) (21.4.0)\n",
      "Requirement already satisfied: outcome in c:\\users\\21\\appdata\\roaming\\python\\python39\\site-packages (from trio~=0.17->selenium) (1.2.0)\n",
      "Requirement already satisfied: sniffio in c:\\programdata\\anaconda3\\lib\\site-packages (from trio~=0.17->selenium) (1.2.0)\n",
      "Requirement already satisfied: cffi>=1.14 in c:\\programdata\\anaconda3\\lib\\site-packages (from trio~=0.17->selenium) (1.15.0)\n",
      "Requirement already satisfied: wsproto>=0.14 in c:\\users\\21\\appdata\\roaming\\python\\python39\\site-packages (from trio-websocket~=0.9->selenium) (1.2.0)\n",
      "Requirement already satisfied: PySocks!=1.5.7,<2.0,>=1.5.6 in c:\\programdata\\anaconda3\\lib\\site-packages (from urllib3[socks]~=1.26->selenium) (1.7.1)\n",
      "Requirement already satisfied: pycparser in c:\\programdata\\anaconda3\\lib\\site-packages (from cffi>=1.14->trio~=0.17->selenium) (2.21)\n",
      "Requirement already satisfied: h11<1,>=0.9.0 in c:\\users\\21\\appdata\\roaming\\python\\python39\\site-packages (from wsproto>=0.14->trio-websocket~=0.9->selenium) (0.14.0)\n"
     ]
    },
    {
     "name": "stderr",
     "output_type": "stream",
     "text": [
      "WARNING: Ignoring invalid distribution -pype1 (c:\\users\\21\\appdata\\roaming\\python\\python39\\site-packages)\n",
      "WARNING: Ignoring invalid distribution -pype1 (c:\\users\\21\\appdata\\roaming\\python\\python39\\site-packages)\n",
      "WARNING: Ignoring invalid distribution -pype1 (c:\\users\\21\\appdata\\roaming\\python\\python39\\site-packages)\n",
      "WARNING: Ignoring invalid distribution -pype1 (c:\\users\\21\\appdata\\roaming\\python\\python39\\site-packages)\n",
      "WARNING: Ignoring invalid distribution -pype1 (c:\\users\\21\\appdata\\roaming\\python\\python39\\site-packages)\n",
      "WARNING: Ignoring invalid distribution -pype1 (c:\\users\\21\\appdata\\roaming\\python\\python39\\site-packages)\n"
     ]
    }
   ],
   "source": [
    "!pip install selenium"
   ]
  },
  {
   "cell_type": "code",
   "execution_count": 2,
   "id": "dd8e4890",
   "metadata": {},
   "outputs": [
    {
     "name": "stderr",
     "output_type": "stream",
     "text": [
      "C:\\Users\\21\\AppData\\Local\\Temp\\ipykernel_11984\\547220527.py:5: DeprecationWarning: executable_path has been deprecated, please pass in a Service object\n",
      "  driver = webdriver.Chrome(path)\n"
     ]
    }
   ],
   "source": [
    "from selenium import webdriver\n",
    "# chromedriver.exe 가 위치한 폴더 경로 지정하기\n",
    "path = \"C:/Users/21/Downloads/chromedriver.exe\"\n",
    "# 1.selenium으로 제어할 수 있는 크롬 브라우저 새창이 열린다.\n",
    "driver = webdriver.Chrome(path)"
   ]
  },
  {
   "cell_type": "code",
   "execution_count": 3,
   "id": "484dcc2d",
   "metadata": {},
   "outputs": [],
   "source": [
    "# 2.webdriver가 google 페이지에 접속하도록 명령\n",
    "driver.get('https://www.google.com')"
   ]
  },
  {
   "cell_type": "code",
   "execution_count": 4,
   "id": "6d443c8d",
   "metadata": {},
   "outputs": [],
   "source": [
    "elem = driver.find_element(\"name\", \"q\")\n",
    "#입력 부분에 지운다-default로 값이 있을 수 있는 경우 고려\n",
    "elem.clear()\n",
    "#검색어 입력\n",
    "elem.send_keys(\"Selenium\")\n",
    "#검색 실행\n",
    "elem.submit()\n",
    "#검색이 제대로 됐는지 확인\n",
    "assert \"No results found.\" not in driver.page_source"
   ]
  },
  {
   "cell_type": "code",
   "execution_count": 5,
   "id": "8d999ac2",
   "metadata": {},
   "outputs": [],
   "source": [
    "#브라우저 종료\n",
    "driver.close()"
   ]
  },
  {
   "cell_type": "markdown",
   "id": "5b7c4745",
   "metadata": {},
   "source": [
    "# Selenium을 이용해 웹 크롤링으로 이미지 다운하기"
   ]
  },
  {
   "cell_type": "code",
   "execution_count": 6,
   "id": "9f62c1c6",
   "metadata": {},
   "outputs": [],
   "source": [
    "from selenium import webdriver\n",
    "from selenium.webdriver.common.keys import Keys\n",
    "import time\n",
    "import urllib.request\n",
    "from selenium.webdriver.common.by import By"
   ]
  },
  {
   "cell_type": "code",
   "execution_count": 7,
   "id": "09151caa",
   "metadata": {},
   "outputs": [],
   "source": [
    "def crawling_image(driver, search, number, save_dir):\n",
    "    driver.get(\"https://www.google.co.kr/imghp?hl=ko&tab=wi&ogbl\") # Google이미지검색\n",
    "   \n",
    "    elem = driver.find_element(\"name\", \"q\")                        # 검색창 부분\n",
    "    elem.send_keys(str(search))                                    # 검색어 입력\n",
    "    elem.send_keys(Keys.RETURN)                                    # Enter키 쳐서 검색\n",
    "    SCROLL_PAUSE_TIME = 0.7\n",
    "    # Get scroll height\n",
    "    last_height = driver.execute_script(\"return document.body.scrollHeight\")\n",
    "    while True:\n",
    "        # 스크롤을 내립니다.\n",
    "        driver.execute_script(\"window.scrollTo(0, document.body.scrollHeight);\")\n",
    "        # 페이지를 넘기기 위해 기다립니다\n",
    "        time.sleep(SCROLL_PAUSE_TIME)\n",
    "        # 마지막으로 스크롤한 위치와 새로 스크롤한 위치를 비교합니다\n",
    "        new_height = driver.execute_script(\"return document.body.scrollHeight\")\n",
    "        if new_height == last_height: # 스크롤이 끝까지 내려갔다면\n",
    "            try:                      # 이미지 더보기 버튼을 클릭해 줌\n",
    "                \n",
    "                driver.find_elements(By.CSS_SELECTOR, \".mye4qd\").click()\n",
    "            except:                   # 더이상 이미지 더보기가 없으면 끝냄\n",
    "                break\n",
    "        last_height = new_height\n",
    "    #images = driver.find_elements_by_css_selector(\".rg_i.Q4LuWd\")\n",
    "    images = driver.find_elements(By.CSS_SELECTOR, \".rg_i.Q4LuWd\")\n",
    "    count = 0               # 이미지 파일 이름을 1,2,3...으로 하기 위해\n",
    "    for image in images:\n",
    "        try:\n",
    "            image.click()   # 첫번째 이미지 선택\n",
    "            time.sleep(0.1)   # 이미지 사이트 검색을 위해 3초간 쉬어줌\n",
    "            imgURL = driver.find_element(By.CSS_SELECTOR, \".n3VNCb\").get_attribute(\"src\")\n",
    "            # 아래줄의 폴더의 경로부분은 자신의 PC에 맞추어 변경해 주세요.\n",
    "            outpath = save_dir # 이미지를 저장할 폴더\n",
    "            outfile = str(count) + \".jpg\"\n",
    "            urllib.request.urlretrieve(imgURL, outpath+outfile)\n",
    "            count = count + 1\n",
    "            if count == number:\n",
    "                break\n",
    "            print(\"이미지 저장 {}회\".format(count+1))\n",
    "        except:\n",
    "            pass"
   ]
  },
  {
   "cell_type": "code",
   "execution_count": 10,
   "id": "3086acf5",
   "metadata": {},
   "outputs": [
    {
     "name": "stderr",
     "output_type": "stream",
     "text": [
      "C:\\Users\\21\\AppData\\Local\\Temp\\ipykernel_11984\\2799272082.py:3: DeprecationWarning: executable_path has been deprecated, please pass in a Service object\n",
      "  driver = webdriver.Chrome(path)\n"
     ]
    },
    {
     "name": "stdout",
     "output_type": "stream",
     "text": [
      "이미지 검색을 시작합니다.\n",
      "이미지 저장 2회\n",
      "이미지 저장 3회\n",
      "이미지 저장 4회\n",
      "이미지 저장 5회\n",
      "이미지 저장 6회\n",
      "이미지 저장 7회\n",
      "이미지 저장 8회\n",
      "이미지 저장 9회\n",
      "이미지 저장 10회\n",
      "이미지 저장 11회\n",
      "이미지 저장 12회\n",
      "이미지 저장 13회\n",
      "이미지 저장 14회\n",
      "이미지 저장 15회\n",
      "이미지 저장 16회\n",
      "이미지 저장 17회\n",
      "이미지 저장 18회\n",
      "이미지 저장 19회\n",
      "이미지 저장 20회\n",
      "이미지 저장 21회\n",
      "이미지 저장 22회\n",
      "이미지 저장 23회\n",
      "이미지 저장 24회\n",
      "이미지 저장 25회\n",
      "이미지 저장 26회\n",
      "이미지 저장 27회\n",
      "이미지 저장 28회\n",
      "이미지 저장 29회\n",
      "이미지 저장 30회\n",
      "이미지 저장 31회\n",
      "이미지 저장 32회\n",
      "이미지 저장 33회\n",
      "이미지 저장 34회\n",
      "이미지 저장 35회\n",
      "이미지 저장 36회\n",
      "이미지 저장 37회\n",
      "이미지 저장 38회\n",
      "이미지 저장 39회\n",
      "이미지 저장 40회\n",
      "이미지 저장 41회\n",
      "이미지 저장 42회\n",
      "이미지 저장 43회\n",
      "이미지 저장 44회\n",
      "이미지 저장 45회\n",
      "이미지 저장 46회\n",
      "이미지 저장 47회\n",
      "이미지 저장 48회\n",
      "이미지 저장 49회\n",
      "이미지 저장 50회\n"
     ]
    }
   ],
   "source": [
    "if __name__=='__main__':\n",
    "    path = \"C:/Users/21/Downloads/chromedriver.exe\"\n",
    "    driver = webdriver.Chrome(path)\n",
    "    print('이미지 검색을 시작합니다.')\n",
    "    number = 50                   # 저장할 사진 개수\n",
    "    search_name = 'green banana'         # 검색어\n",
    "    # 사진이 저장될 폴더 : 자신의 컴퓨터 이름으로 변경하여 사용하도록 함\n",
    "    save_dir = \"C:/Users/21/Downloads/banana data/green/image\"\n",
    "    crawling_image(driver, search_name, number, save_dir) # 크롤링을 시작합니다.\n",
    "    driver.close()    # 마지막에는 드라이버를 닫아줌"
   ]
  },
  {
   "cell_type": "code",
   "execution_count": 11,
   "id": "b7645bbc",
   "metadata": {},
   "outputs": [
    {
     "name": "stderr",
     "output_type": "stream",
     "text": [
      "C:\\Users\\21\\AppData\\Local\\Temp\\ipykernel_11984\\2011812675.py:3: DeprecationWarning: executable_path has been deprecated, please pass in a Service object\n",
      "  driver = webdriver.Chrome(path)\n"
     ]
    },
    {
     "name": "stdout",
     "output_type": "stream",
     "text": [
      "이미지 검색을 시작합니다.\n",
      "이미지 저장 2회\n",
      "이미지 저장 3회\n",
      "이미지 저장 4회\n",
      "이미지 저장 5회\n",
      "이미지 저장 6회\n",
      "이미지 저장 7회\n",
      "이미지 저장 8회\n",
      "이미지 저장 9회\n",
      "이미지 저장 10회\n",
      "이미지 저장 11회\n",
      "이미지 저장 12회\n",
      "이미지 저장 13회\n",
      "이미지 저장 14회\n",
      "이미지 저장 15회\n",
      "이미지 저장 16회\n",
      "이미지 저장 17회\n",
      "이미지 저장 18회\n",
      "이미지 저장 19회\n",
      "이미지 저장 20회\n",
      "이미지 저장 21회\n",
      "이미지 저장 22회\n",
      "이미지 저장 23회\n",
      "이미지 저장 24회\n",
      "이미지 저장 25회\n",
      "이미지 저장 26회\n",
      "이미지 저장 27회\n",
      "이미지 저장 28회\n",
      "이미지 저장 29회\n",
      "이미지 저장 30회\n",
      "이미지 저장 31회\n",
      "이미지 저장 32회\n",
      "이미지 저장 33회\n",
      "이미지 저장 34회\n",
      "이미지 저장 35회\n",
      "이미지 저장 36회\n",
      "이미지 저장 37회\n",
      "이미지 저장 38회\n",
      "이미지 저장 39회\n",
      "이미지 저장 40회\n",
      "이미지 저장 41회\n",
      "이미지 저장 42회\n",
      "이미지 저장 43회\n",
      "이미지 저장 44회\n",
      "이미지 저장 45회\n",
      "이미지 저장 46회\n",
      "이미지 저장 47회\n",
      "이미지 저장 48회\n",
      "이미지 저장 49회\n",
      "이미지 저장 50회\n"
     ]
    }
   ],
   "source": [
    "if __name__=='__main__':\n",
    "    path = \"C:/Users/21/Downloads/chromedriver.exe\"\n",
    "    driver = webdriver.Chrome(path)\n",
    "    print('이미지 검색을 시작합니다.')\n",
    "    number = 50                   # 저장할 사진 개수\n",
    "    search_name = 'overripe banana'         # 검색어\n",
    "    # 사진이 저장될 폴더 : 자신의 컴퓨터 이름으로 변경하여 사용하도록 함\n",
    "    save_dir = \"C:/Users/21/Downloads/banana data/overripe/image\"\n",
    "    crawling_image(driver, search_name, number, save_dir) # 크롤링을 시작합니다.\n",
    "    driver.close()    # 마지막에는 드라이버를 닫아줌"
   ]
  },
  {
   "cell_type": "code",
   "execution_count": 13,
   "id": "9d767a75",
   "metadata": {},
   "outputs": [
    {
     "name": "stderr",
     "output_type": "stream",
     "text": [
      "C:\\Users\\21\\AppData\\Local\\Temp\\ipykernel_11984\\1877016020.py:3: DeprecationWarning: executable_path has been deprecated, please pass in a Service object\n",
      "  driver = webdriver.Chrome(path)\n"
     ]
    },
    {
     "name": "stdout",
     "output_type": "stream",
     "text": [
      "이미지 검색을 시작합니다.\n",
      "이미지 저장 2회\n",
      "이미지 저장 3회\n",
      "이미지 저장 4회\n",
      "이미지 저장 5회\n",
      "이미지 저장 6회\n",
      "이미지 저장 7회\n",
      "이미지 저장 8회\n",
      "이미지 저장 9회\n",
      "이미지 저장 10회\n",
      "이미지 저장 11회\n",
      "이미지 저장 12회\n",
      "이미지 저장 13회\n",
      "이미지 저장 14회\n",
      "이미지 저장 15회\n",
      "이미지 저장 16회\n",
      "이미지 저장 17회\n",
      "이미지 저장 18회\n",
      "이미지 저장 19회\n",
      "이미지 저장 20회\n",
      "이미지 저장 21회\n",
      "이미지 저장 22회\n",
      "이미지 저장 23회\n",
      "이미지 저장 24회\n",
      "이미지 저장 25회\n",
      "이미지 저장 26회\n",
      "이미지 저장 27회\n",
      "이미지 저장 28회\n",
      "이미지 저장 29회\n",
      "이미지 저장 30회\n",
      "이미지 저장 31회\n",
      "이미지 저장 32회\n",
      "이미지 저장 33회\n",
      "이미지 저장 34회\n",
      "이미지 저장 35회\n",
      "이미지 저장 36회\n",
      "이미지 저장 37회\n",
      "이미지 저장 38회\n",
      "이미지 저장 39회\n",
      "이미지 저장 40회\n",
      "이미지 저장 41회\n",
      "이미지 저장 42회\n",
      "이미지 저장 43회\n",
      "이미지 저장 44회\n",
      "이미지 저장 45회\n",
      "이미지 저장 46회\n",
      "이미지 저장 47회\n",
      "이미지 저장 48회\n",
      "이미지 저장 49회\n",
      "이미지 저장 50회\n"
     ]
    }
   ],
   "source": [
    "if __name__=='__main__':\n",
    "    path = \"C:/Users/21/Downloads/chromedriver.exe\"\n",
    "    driver = webdriver.Chrome(path)\n",
    "    print('이미지 검색을 시작합니다.')\n",
    "    number = 50                   # 저장할 사진 개수\n",
    "    search_name = 'banana'         # 검색어\n",
    "    # 사진이 저장될 폴더 : 자신의 컴퓨터 이름으로 변경하여 사용하도록 함\n",
    "    save_dir = \"C:/Users/21/Downloads/banana data/ripe/image\"\n",
    "    crawling_image(driver, search_name, number, save_dir) # 크롤링을 시작합니다.\n",
    "    driver.close()    # 마지막에는 드라이버를 닫아줌"
   ]
  },
  {
   "cell_type": "markdown",
   "id": "9552098f",
   "metadata": {},
   "source": [
    "download의 banana data폴더 내에 green,overripe,ripe 폴더 안에 각각의 안익은 바나나, 많이 익은 바나나, 적당한 바나나 사진이 저장 되었다."
   ]
  }
 ],
 "metadata": {
  "kernelspec": {
   "display_name": "Python 3 (ipykernel)",
   "language": "python",
   "name": "python3"
  },
  "language_info": {
   "codemirror_mode": {
    "name": "ipython",
    "version": 3
   },
   "file_extension": ".py",
   "mimetype": "text/x-python",
   "name": "python",
   "nbconvert_exporter": "python",
   "pygments_lexer": "ipython3",
   "version": "3.9.12"
  }
 },
 "nbformat": 4,
 "nbformat_minor": 5
}
